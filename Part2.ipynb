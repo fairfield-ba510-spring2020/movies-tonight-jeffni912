{
 "cells": [
  {
   "cell_type": "markdown",
   "metadata": {},
   "source": [
    "# Movies Tonight Part 2: SQL DDL"
   ]
  },
  {
   "cell_type": "code",
   "execution_count": 2,
   "metadata": {},
   "outputs": [],
   "source": [
    "%load_ext sql"
   ]
  },
  {
   "cell_type": "markdown",
   "metadata": {},
   "source": [
    "1. **Create / Reset a SQLite database.** \n",
    "    - Name the database `Movies.db`.\n",
    "    - Add `DROP TABLE IF EXISTS` queries make sure you have a blank database. \n",
    "    - Use SQL comments to ay what each line does"
   ]
  },
  {
   "cell_type": "code",
   "execution_count": 3,
   "metadata": {},
   "outputs": [
    {
     "data": {
      "text/plain": [
       "'Connected: @Movies.db'"
      ]
     },
     "execution_count": 3,
     "metadata": {},
     "output_type": "execute_result"
    }
   ],
   "source": [
    "%sql sqlite:///Movies.db"
   ]
  },
  {
   "cell_type": "markdown",
   "metadata": {},
   "source": [
    "2. **Use SQL Create Table commands to implement the table designs you created in Part 1.** \n",
    "    - Take care with your data types! (You do not need to populate them yet. That’s Part 3.) \n",
    "    - Use a surrogate key for the primary key of each table. The data type descriptor is `INTEGER PRIMARY KEY`.\n",
    "    - If you make a mistake, recreate the database from scratch using your code from step 1 above. "
   ]
  },
  {
   "cell_type": "code",
   "execution_count": 4,
   "metadata": {},
   "outputs": [
    {
     "name": "stdout",
     "output_type": "stream",
     "text": [
      " * sqlite:///Movies.db\n",
      "Done.\n",
      "Done.\n",
      "Done.\n",
      "Done.\n",
      "Done.\n",
      "Done.\n",
      "Done.\n",
      "Done.\n",
      "Done.\n",
      "Done.\n"
     ]
    },
    {
     "data": {
      "text/plain": [
       "[]"
      ]
     },
     "execution_count": 4,
     "metadata": {},
     "output_type": "execute_result"
    }
   ],
   "source": [
    "%%sql\n",
    "\n",
    "DROP TABLE IF EXISTS THEATER;\n",
    "CREATE TABLE THEATER (\n",
    "  TheaterID INTEGER PRIMARY KEY,\n",
    "  TheaterName TEXT NOT NULL,\n",
    "  Location TEXT NOT NULL,\n",
    "  Phone TEXT NOT NULL\n",
    ");\n",
    "DROP TABLE IF EXISTS ARTIST;\n",
    "CREATE TABLE ARTIST (\n",
    "  ArtistID INTEGER PRIMARY KEY,\n",
    "  ArtistName TEXT NOT NULL,\n",
    "  Headshot BLOB\n",
    ");\n",
    "DROP TABLE IF EXISTS MOVIE;\n",
    "CREATE TABLE MOVIE (\n",
    "  MovieID INTEGER PRIMARY KEY,\n",
    "  Title TEXT NOT NULL,\n",
    "  Rating TEXT\n",
    ");\n",
    "DROP TABLE IF EXISTS SHOWTIME;\n",
    "CREATE TABLE SHOWTIME (\n",
    "  ShowTimeID INTEGER PRIMARY KEY,\n",
    "  TheaterID INTEGER NOT NULL,\n",
    "  MovieID INTEGER NOT NULL,\n",
    "  ShowTime TEXT,\n",
    "  FOREIGN KEY (TheaterID) REFERENCES THEATER (TheaterID),\n",
    "  FOREIGN KEY (MovieID) REFERENCES MOVIE (MovieID)\n",
    ");\n",
    "DROP TABLE IF EXISTS CREDIT;\n",
    "CREATE TABLE CREDIT (\n",
    "  CreditID INTEGER PRIMARY KEY,\n",
    "  CCode TEXT NOT NULL, \n",
    "  ArtistID INTEGER NOT NULL,\n",
    "  ArtistName TEXT NOT NULL,\n",
    "  MovieID INTEGER NOT NULL,\n",
    "  Title TEXT NOT NULL,\n",
    "  FOREIGN KEY (ArtistID) REFERENCES ARTIST (ArtistID),\n",
    "  FOREIGN KEY (ArtistName) REFERENCES ARTIST (ArtistName),\n",
    "  FOREIGN KEY (MovieID) REFERENCES MOVIE (MovieID),\n",
    "  FOREIGN KEY (Title) REFERENCES MOVIE (Title)\n",
    ");"
   ]
  },
  {
   "cell_type": "markdown",
   "metadata": {},
   "source": [
    "3. **Use SQL ALTER TABLE statements to add the foreign key constraints from your ERD.**  \n",
    "Take care that each constraint has to have a unique name."
   ]
  },
  {
   "cell_type": "code",
   "execution_count": null,
   "metadata": {},
   "outputs": [],
   "source": [
    "YOUR CODE HERE"
   ]
  },
  {
   "cell_type": "markdown",
   "metadata": {},
   "source": [
    "4. **Save, add, commit, and push your work to GitHub.**  \n",
    "Use the commit summary comment \"Completed Part 2\"."
   ]
  },
  {
   "cell_type": "code",
   "execution_count": null,
   "metadata": {},
   "outputs": [],
   "source": [
    "#Jeffrey Ni"
   ]
  }
 ],
 "metadata": {
  "kernelspec": {
   "display_name": "Python 3",
   "language": "python",
   "name": "python3"
  },
  "language_info": {
   "codemirror_mode": {
    "name": "ipython",
    "version": 3
   },
   "file_extension": ".py",
   "mimetype": "text/x-python",
   "name": "python",
   "nbconvert_exporter": "python",
   "pygments_lexer": "ipython3",
   "version": "3.6.7"
  }
 },
 "nbformat": 4,
 "nbformat_minor": 2
}
